{
 "cells": [
  {
   "cell_type": "code",
   "execution_count": 2,
   "id": "decc6734-d197-473a-bc91-b2e5ff93ab16",
   "metadata": {},
   "outputs": [
    {
     "name": "stdout",
     "output_type": "stream",
     "text": [
      "{10: 40, 20: 50, 300: 60}\n",
      "{10: 40, 20: 50, 300: 60}\n"
     ]
    }
   ],
   "source": [
    "#Q1.l1=[10,20,300]  l2=[40,50,60]   \n",
    "#{10:40,  20:50,  300:60}\n",
    "# note using zip and without zip\n",
    "l1=[10,20,300]\n",
    "l2=[40,50,60]\n",
    "print(dict(zip(l1,l2)))   # with zip function\n",
    "final_list={}\n",
    "for i in range(0,3):     #without zip function\n",
    "   final_list[l1[i]]=l2[i]\n",
    "print(final_list)\n",
    "    "
   ]
  },
  {
   "cell_type": "code",
   "execution_count": 16,
   "id": "b6a881ed-1751-4eea-b975-548399dca0b7",
   "metadata": {},
   "outputs": [
    {
     "name": "stdin",
     "output_type": "stream",
     "text": [
      "enter score 56\n"
     ]
    },
    {
     "name": "stdout",
     "output_type": "stream",
     "text": [
      "marks above score : deepa 60\n",
      "marks above score : ella 70\n"
     ]
    }
   ],
   "source": [
    "# Q2 {name: marks .. . . . .  ======>} multiple elements\n",
    "# now take a input from the user for score variable\n",
    "# - print the key who have more value then the score variable\n",
    "\n",
    "marks={\"aman\":20,\"babita\":30,\"catie\":50,\"deepa\":60,\"ella\":70 }\n",
    "      \n",
    "score=int(input(\"enter score\"))\n",
    "\n",
    "for i in marks:\n",
    "  if marks[i]>score :\n",
    "   print(\"marks above score :\" ,i,marks[i])"
   ]
  },
  {
   "cell_type": "code",
   "execution_count": 22,
   "id": "3f93e322-12aa-43a7-a8ba-a9233fec3341",
   "metadata": {},
   "outputs": [
    {
     "ename": "NameError",
     "evalue": "name 'NONE' is not defined",
     "output_type": "error",
     "traceback": [
      "\u001b[31m---------------------------------------------------------------------------\u001b[39m",
      "\u001b[31mNameError\u001b[39m                                 Traceback (most recent call last)",
      "\u001b[36mCell\u001b[39m\u001b[36m \u001b[39m\u001b[32mIn[22]\u001b[39m\u001b[32m, line 4\u001b[39m\n\u001b[32m      1\u001b[39m \u001b[38;5;66;03m# Q3 {10:19,  11:20,  13:NONE}\u001b[39;00m\n\u001b[32m      2\u001b[39m \u001b[38;5;66;03m# delete the key-value pair where the value is none\u001b[39;00m\n\u001b[32m----> \u001b[39m\u001b[32m4\u001b[39m mydictonary={\u001b[32m10\u001b[39m:\u001b[32m19\u001b[39m,  \u001b[32m11\u001b[39m:\u001b[32m20\u001b[39m,  \u001b[32m13\u001b[39m:\u001b[43mNONE\u001b[49m}\n\u001b[32m      5\u001b[39m \u001b[38;5;28;01mfor\u001b[39;00m i \u001b[38;5;129;01min\u001b[39;00m mydictonary:\n\u001b[32m      6\u001b[39m      \u001b[38;5;28;01mif\u001b[39;00m mydictonary[i]==NONE:\n",
      "\u001b[31mNameError\u001b[39m: name 'NONE' is not defined"
     ]
    }
   ],
   "source": [
    "# Q3 {10:19,  11:20,  13:NONE}\n",
    "# delete the key-value pair where the value is none\n",
    "\n",
    "mydictonary={10:19,  11:20,  13:NONE}\n",
    "for i in mydictonary:\n",
    "     if mydictonary[i]==NONE:\n",
    "         mydictionary.pop(i)\n",
    "     print(mydictonary)\n",
    "         "
   ]
  },
  {
   "cell_type": "code",
   "execution_count": 26,
   "id": "b459d438-5763-49dd-8fdc-8a5cbe5e125a",
   "metadata": {},
   "outputs": [
    {
     "name": "stdout",
     "output_type": "stream",
     "text": [
      "{'x': 25, 'y': 49, 'z': 100}\n"
     ]
    }
   ],
   "source": [
    "# Q4:   {\"x\":5, \"y\":7, \"z\":10}\n",
    "# print new dictionary as square of each key {x:25, y:49,  z:100}\n",
    "\n",
    "old_dictionary={\"x\":5, \"y\":7, \"z\":10}\n",
    "new_dictionary={}\n",
    "for i in old_dictionary:\n",
    "    new_dictionary.update({i:old_dictionary[i]**2})\n",
    "    \n",
    "print(new_dictionary)\n",
    "    "
   ]
  },
  {
   "cell_type": "code",
   "execution_count": 35,
   "id": "f90e5c1d-6d4e-4187-bee3-bd7c9d918fd8",
   "metadata": {},
   "outputs": [
    {
     "name": "stdout",
     "output_type": "stream",
     "text": [
      "{1: 1, 2: 8, 3: 27, 4: 64, 5: 125}\n"
     ]
    }
   ],
   "source": [
    "# Q5 create a dictionary as cube of number from 1 to 5\n",
    "# {1:1, 2:8, 3:27, 4:64, 5:125}\n",
    "# Note use only thing we have learnt\n",
    "\n",
    "given_dictionary={1:1, 2:8, 3:27, 4:64, 5:125}\n",
    "new_dictionary={}\n",
    "for i in range(1,6):\n",
    "    new_dictionary.update({i:i**3})\n",
    "print(new_dictionary)\n",
    "\n"
   ]
  },
  {
   "cell_type": "code",
   "execution_count": 50,
   "id": "ab644ce2-fd29-4a78-a1be-0b6bae937c72",
   "metadata": {},
   "outputs": [
    {
     "name": "stdout",
     "output_type": "stream",
     "text": [
      "average: 7.333333333333333\n",
      "max value is : 10\n",
      "{'average': 7.333333333333333, 'max_value': 10}\n"
     ]
    }
   ],
   "source": [
    "#Q6 {\"x\":5, \"y\":7, \"z\":10}\n",
    "#get the ans in new dictionary {\"average\":7.3 ,   \"max\":10}\n",
    "\n",
    "given_dictionary={\"x\":5, \"y\":7, \"z\":10}\n",
    "new_dictionary={}\n",
    "sum=0\n",
    "max_value=0\n",
    "for i in given_dictionary:\n",
    "    sum=sum+given_dictionary[i]\n",
    "    average=(sum)/len(given_dictionary)\n",
    "print(\"average:\",average)\n",
    "\n",
    "for i in given_dictionary:\n",
    "    for j in range(1,len(given_dictionary)):\n",
    "     if(given_dictionary[i]>max_value):\n",
    "         max_value=given_dictionary[i]\n",
    "         \n",
    "print(\"max value is :\", max_value)\n",
    "new_dictionary[\"average\"]=average\n",
    "new_dictionary[\"max_value\"]=max_value\n",
    "print(new_dictionary)\n",
    "\n",
    "         \n",
    "        \n",
    "    "
   ]
  },
  {
   "cell_type": "code",
   "execution_count": null,
   "id": "143b59fd-c417-4f47-a08f-7b3bdd82c717",
   "metadata": {},
   "outputs": [],
   "source": []
  }
 ],
 "metadata": {
  "kernelspec": {
   "display_name": "Python 3 (ipykernel)",
   "language": "python",
   "name": "python3"
  },
  "language_info": {
   "codemirror_mode": {
    "name": "ipython",
    "version": 3
   },
   "file_extension": ".py",
   "mimetype": "text/x-python",
   "name": "python",
   "nbconvert_exporter": "python",
   "pygments_lexer": "ipython3",
   "version": "3.13.2"
  }
 },
 "nbformat": 4,
 "nbformat_minor": 5
}
